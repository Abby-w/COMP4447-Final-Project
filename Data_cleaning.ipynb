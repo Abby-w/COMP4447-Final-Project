{
 "cells": [
  {
   "cell_type": "markdown",
   "id": "c7af7045-90b3-4b1a-89fe-978969a20f1a",
   "metadata": {},
   "source": [
    "!['Salary'](https://kayako.com/wp-content/uploads/2021/01/Curious-case-of-the-customer-support-managers-salary-970x568-1.png)"
   ]
  },
  {
   "cell_type": "markdown",
   "id": "d7cd7565-e8a0-4597-9f32-20cab6fbfb45",
   "metadata": {},
   "source": [
    "# Dataset and motivation"
   ]
  },
  {
   "cell_type": "markdown",
   "id": "6fdd0cb6-8b02-47c6-916f-23cdc86428e5",
   "metadata": {},
   "source": [
    "This dataset came from an online survey at askamanager.org (https://www.askamanager.org/2021/04/how-much-money-do-you-make-4.html). The goal of this survey was to take the mystery out of salaries and allow people to see how much others were actually making. There are 17 variables consisting of: Timestamp How old are you? Industry Job title Additional context on job title Annual salary Other monetary comp Currency Currency - other Additional context on income Country State City Overall years of professional experience Years of experience in field Highest level of education completed Gender Race\n",
    "\n",
    "This dataset was downloaded from https://docs.google.com/spreadsheets/d/1IPS5dBSGtwYVbjsfbaMCYIWnOuRmJcbequohNxCyGVw/edit?resourcekey#gid=1625408792. At the time the dataset was downloaded for use in this analysis there were 27680 responses."
   ]
  },
  {
   "cell_type": "markdown",
   "id": "9ac2959c-e51b-4b01-bf46-948a1004f26e",
   "metadata": {},
   "source": [
    "# Research Question"
   ]
  },
  {
   "cell_type": "markdown",
   "id": "4397e2f6-d632-4e2d-b4c9-221708878ac0",
   "metadata": {},
   "source": [
    "How accurately can salary be predicted based on the features in a dataset collected from an online blog? What are the best predictors of salary?"
   ]
  },
  {
   "cell_type": "markdown",
   "id": "b24ad840-2611-42cb-8afa-a4c302ffab42",
   "metadata": {},
   "source": [
    "# Literatrue Review"
   ]
  },
  {
   "cell_type": "markdown",
   "id": "bf3523d1-2a11-4d9f-8ed5-1fd7a5290337",
   "metadata": {},
   "source": [
    "Needs polishing<Br>\n",
    "Many studies have been done on data collected from a more structured process designed to ensure a good distribution of a population.  Our study looks at mostly freeform data collected from an online blog.  We wanted to see how well a model could predict salary built from a messy dataset.<BR>\n",
    "    -I thought about listing one or more other studies here with a summary and a link"
   ]
  },
  {
   "cell_type": "markdown",
   "id": "065d9e73-15c9-49f3-b19d-08327b5d9b35",
   "metadata": {},
   "source": [
    "# Data Cleaning"
   ]
  },
  {
   "cell_type": "markdown",
   "id": "8f5f48e1",
   "metadata": {},
   "source": [
    "## Import packages"
   ]
  },
  {
   "cell_type": "code",
   "execution_count": 1,
   "id": "8ad8aa5f",
   "metadata": {},
   "outputs": [
    {
     "name": "stderr",
     "output_type": "stream",
     "text": [
      "[nltk_data] Downloading package wordnet to /Users/ajoseph/nltk_data...\n",
      "[nltk_data]   Package wordnet is already up-to-date!\n",
      "[nltk_data] Downloading package omw-1.4 to /Users/ajoseph/nltk_data...\n",
      "[nltk_data]   Package omw-1.4 is already up-to-date!\n"
     ]
    },
    {
     "data": {
      "text/plain": [
       "True"
      ]
     },
     "execution_count": 1,
     "metadata": {},
     "output_type": "execute_result"
    }
   ],
   "source": [
    "import pandas as pd\n",
    "import numpy as np\n",
    "import seaborn as sns\n",
    "import matplotlib.pyplot as plt\n",
    "from pandas_profiling import ProfileReport\n",
    "import re\n",
    "import us\n",
    "from city_to_state import city_to_state_dict\n",
    "\n",
    "%matplotlib inline\n",
    "import gensim\n",
    "from gensim.utils import simple_preprocess\n",
    "from gensim.parsing.preprocessing import STOPWORDS\n",
    "from nltk.stem import WordNetLemmatizer, SnowballStemmer\n",
    "from nltk.stem.porter import *\n",
    "import nltk\n",
    "nltk.download('wordnet')\n",
    "nltk.download('omw-1.4')"
   ]
  },
  {
   "cell_type": "markdown",
   "id": "0377aa38",
   "metadata": {},
   "source": [
    "## Load and explore dataset"
   ]
  },
  {
   "cell_type": "code",
   "execution_count": 2,
   "id": "a54a794f",
   "metadata": {},
   "outputs": [],
   "source": [
    "df = pd.read_csv('Ask A Manager Salary Survey 2021 (Responses) - Form Responses 1 (1).csv')"
   ]
  },
  {
   "cell_type": "code",
   "execution_count": 3,
   "id": "af0420b2",
   "metadata": {},
   "outputs": [
    {
     "data": {
      "text/html": [
       "<div>\n",
       "<style scoped>\n",
       "    .dataframe tbody tr th:only-of-type {\n",
       "        vertical-align: middle;\n",
       "    }\n",
       "\n",
       "    .dataframe tbody tr th {\n",
       "        vertical-align: top;\n",
       "    }\n",
       "\n",
       "    .dataframe thead th {\n",
       "        text-align: right;\n",
       "    }\n",
       "</style>\n",
       "<table border=\"1\" class=\"dataframe\">\n",
       "  <thead>\n",
       "    <tr style=\"text-align: right;\">\n",
       "      <th></th>\n",
       "      <th>Timestamp</th>\n",
       "      <th>How old are you?</th>\n",
       "      <th>Industry</th>\n",
       "      <th>Job title</th>\n",
       "      <th>Additional context on job title</th>\n",
       "      <th>Annual salary</th>\n",
       "      <th>Other monetary comp</th>\n",
       "      <th>Currency</th>\n",
       "      <th>Currency - other</th>\n",
       "      <th>Additional context on income</th>\n",
       "      <th>Country</th>\n",
       "      <th>State</th>\n",
       "      <th>City</th>\n",
       "      <th>Overall years of professional experience</th>\n",
       "      <th>Years of experience in field</th>\n",
       "      <th>Highest level of education completed</th>\n",
       "      <th>Gender</th>\n",
       "      <th>Race</th>\n",
       "    </tr>\n",
       "  </thead>\n",
       "  <tbody>\n",
       "    <tr>\n",
       "      <th>0</th>\n",
       "      <td>4/27/2021 11:02:10</td>\n",
       "      <td>25-34</td>\n",
       "      <td>Education (Higher Education)</td>\n",
       "      <td>Research and Instruction Librarian</td>\n",
       "      <td>NaN</td>\n",
       "      <td>55,000</td>\n",
       "      <td>0.0</td>\n",
       "      <td>USD</td>\n",
       "      <td>NaN</td>\n",
       "      <td>NaN</td>\n",
       "      <td>United States</td>\n",
       "      <td>Massachusetts</td>\n",
       "      <td>Boston</td>\n",
       "      <td>5-7 years</td>\n",
       "      <td>5-7 years</td>\n",
       "      <td>Master's degree</td>\n",
       "      <td>Woman</td>\n",
       "      <td>White</td>\n",
       "    </tr>\n",
       "    <tr>\n",
       "      <th>1</th>\n",
       "      <td>4/27/2021 11:02:22</td>\n",
       "      <td>25-34</td>\n",
       "      <td>Computing or Tech</td>\n",
       "      <td>Change &amp; Internal Communications Manager</td>\n",
       "      <td>NaN</td>\n",
       "      <td>54,600</td>\n",
       "      <td>4000.0</td>\n",
       "      <td>GBP</td>\n",
       "      <td>NaN</td>\n",
       "      <td>NaN</td>\n",
       "      <td>United Kingdom</td>\n",
       "      <td>NaN</td>\n",
       "      <td>Cambridge</td>\n",
       "      <td>8 - 10 years</td>\n",
       "      <td>5-7 years</td>\n",
       "      <td>College degree</td>\n",
       "      <td>Non-binary</td>\n",
       "      <td>White</td>\n",
       "    </tr>\n",
       "    <tr>\n",
       "      <th>2</th>\n",
       "      <td>4/27/2021 11:02:38</td>\n",
       "      <td>25-34</td>\n",
       "      <td>Accounting, Banking &amp; Finance</td>\n",
       "      <td>Marketing Specialist</td>\n",
       "      <td>NaN</td>\n",
       "      <td>34,000</td>\n",
       "      <td>NaN</td>\n",
       "      <td>USD</td>\n",
       "      <td>NaN</td>\n",
       "      <td>NaN</td>\n",
       "      <td>US</td>\n",
       "      <td>Tennessee</td>\n",
       "      <td>Chattanooga</td>\n",
       "      <td>2 - 4 years</td>\n",
       "      <td>2 - 4 years</td>\n",
       "      <td>College degree</td>\n",
       "      <td>Woman</td>\n",
       "      <td>White</td>\n",
       "    </tr>\n",
       "    <tr>\n",
       "      <th>3</th>\n",
       "      <td>4/27/2021 11:02:41</td>\n",
       "      <td>25-34</td>\n",
       "      <td>Nonprofits</td>\n",
       "      <td>Program Manager</td>\n",
       "      <td>NaN</td>\n",
       "      <td>62,000</td>\n",
       "      <td>3000.0</td>\n",
       "      <td>USD</td>\n",
       "      <td>NaN</td>\n",
       "      <td>NaN</td>\n",
       "      <td>USA</td>\n",
       "      <td>Wisconsin</td>\n",
       "      <td>Milwaukee</td>\n",
       "      <td>8 - 10 years</td>\n",
       "      <td>5-7 years</td>\n",
       "      <td>College degree</td>\n",
       "      <td>Woman</td>\n",
       "      <td>White</td>\n",
       "    </tr>\n",
       "    <tr>\n",
       "      <th>4</th>\n",
       "      <td>4/27/2021 11:02:42</td>\n",
       "      <td>25-34</td>\n",
       "      <td>Accounting, Banking &amp; Finance</td>\n",
       "      <td>Accounting Manager</td>\n",
       "      <td>NaN</td>\n",
       "      <td>60,000</td>\n",
       "      <td>7000.0</td>\n",
       "      <td>USD</td>\n",
       "      <td>NaN</td>\n",
       "      <td>NaN</td>\n",
       "      <td>US</td>\n",
       "      <td>South Carolina</td>\n",
       "      <td>Greenville</td>\n",
       "      <td>8 - 10 years</td>\n",
       "      <td>5-7 years</td>\n",
       "      <td>College degree</td>\n",
       "      <td>Woman</td>\n",
       "      <td>White</td>\n",
       "    </tr>\n",
       "    <tr>\n",
       "      <th>...</th>\n",
       "      <td>...</td>\n",
       "      <td>...</td>\n",
       "      <td>...</td>\n",
       "      <td>...</td>\n",
       "      <td>...</td>\n",
       "      <td>...</td>\n",
       "      <td>...</td>\n",
       "      <td>...</td>\n",
       "      <td>...</td>\n",
       "      <td>...</td>\n",
       "      <td>...</td>\n",
       "      <td>...</td>\n",
       "      <td>...</td>\n",
       "      <td>...</td>\n",
       "      <td>...</td>\n",
       "      <td>...</td>\n",
       "      <td>...</td>\n",
       "      <td>...</td>\n",
       "    </tr>\n",
       "    <tr>\n",
       "      <th>27676</th>\n",
       "      <td>2/19/2022 16:07:31</td>\n",
       "      <td>45-54</td>\n",
       "      <td>Property or Construction</td>\n",
       "      <td>Senior Project Manager</td>\n",
       "      <td>Owner rep consultant</td>\n",
       "      <td>145000</td>\n",
       "      <td>14500.0</td>\n",
       "      <td>USD</td>\n",
       "      <td>NaN</td>\n",
       "      <td>Guaranteed 10% bonus if our department meets t...</td>\n",
       "      <td>USA</td>\n",
       "      <td>California</td>\n",
       "      <td>San Francisco</td>\n",
       "      <td>11 - 20 years</td>\n",
       "      <td>11 - 20 years</td>\n",
       "      <td>College degree</td>\n",
       "      <td>Woman</td>\n",
       "      <td>Asian or Asian American</td>\n",
       "    </tr>\n",
       "    <tr>\n",
       "      <th>27677</th>\n",
       "      <td>2/19/2022 18:17:08</td>\n",
       "      <td>25-34</td>\n",
       "      <td>Insurance</td>\n",
       "      <td>Underwriter</td>\n",
       "      <td>NaN</td>\n",
       "      <td>67000</td>\n",
       "      <td>6700.0</td>\n",
       "      <td>USD</td>\n",
       "      <td>NaN</td>\n",
       "      <td>NaN</td>\n",
       "      <td>USA</td>\n",
       "      <td>Florida</td>\n",
       "      <td>Tampa</td>\n",
       "      <td>8 - 10 years</td>\n",
       "      <td>11 - 20 years</td>\n",
       "      <td>Master's degree</td>\n",
       "      <td>Woman</td>\n",
       "      <td>White</td>\n",
       "    </tr>\n",
       "    <tr>\n",
       "      <th>27678</th>\n",
       "      <td>2/19/2022 19:47:05</td>\n",
       "      <td>25-34</td>\n",
       "      <td>Accounting, Banking &amp; Finance</td>\n",
       "      <td>Vice Presidenti and Corporate Counsel</td>\n",
       "      <td>(in-house attorney)</td>\n",
       "      <td>252000</td>\n",
       "      <td>80000.0</td>\n",
       "      <td>USD</td>\n",
       "      <td>NaN</td>\n",
       "      <td>I also receive an equity grant</td>\n",
       "      <td>US</td>\n",
       "      <td>Pennsylvania</td>\n",
       "      <td>Philadelphia</td>\n",
       "      <td>11 - 20 years</td>\n",
       "      <td>11 - 20 years</td>\n",
       "      <td>Professional degree (MD, JD, etc.)</td>\n",
       "      <td>Woman</td>\n",
       "      <td>White</td>\n",
       "    </tr>\n",
       "    <tr>\n",
       "      <th>27679</th>\n",
       "      <td>2/21/2022 19:43:29</td>\n",
       "      <td>25-34</td>\n",
       "      <td>Education (Early Childhood Education)</td>\n",
       "      <td>Quality Rating Specialist</td>\n",
       "      <td>Program assessor to conduct quality assessment...</td>\n",
       "      <td>62400</td>\n",
       "      <td>NaN</td>\n",
       "      <td>USD</td>\n",
       "      <td>NaN</td>\n",
       "      <td>NaN</td>\n",
       "      <td>United States</td>\n",
       "      <td>California</td>\n",
       "      <td>San Diego</td>\n",
       "      <td>11 - 20 years</td>\n",
       "      <td>8 - 10 years</td>\n",
       "      <td>College degree</td>\n",
       "      <td>Woman</td>\n",
       "      <td>Asian or Asian American</td>\n",
       "    </tr>\n",
       "    <tr>\n",
       "      <th>27680</th>\n",
       "      <td>2/22/2022 13:05:17</td>\n",
       "      <td>25-34</td>\n",
       "      <td>Political Campaigns</td>\n",
       "      <td>Congressional Field Director</td>\n",
       "      <td>NaN</td>\n",
       "      <td>66000</td>\n",
       "      <td>5500.0</td>\n",
       "      <td>USD</td>\n",
       "      <td>NaN</td>\n",
       "      <td>Paid as $5,500 monthly, with a month's salary ...</td>\n",
       "      <td>United States</td>\n",
       "      <td>Virginia</td>\n",
       "      <td>Virginia Beach</td>\n",
       "      <td>5-7 years</td>\n",
       "      <td>5-7 years</td>\n",
       "      <td>College degree</td>\n",
       "      <td>Woman</td>\n",
       "      <td>White</td>\n",
       "    </tr>\n",
       "  </tbody>\n",
       "</table>\n",
       "<p>27681 rows × 18 columns</p>\n",
       "</div>"
      ],
      "text/plain": [
       "                Timestamp How old are you?  \\\n",
       "0      4/27/2021 11:02:10            25-34   \n",
       "1      4/27/2021 11:02:22            25-34   \n",
       "2      4/27/2021 11:02:38            25-34   \n",
       "3      4/27/2021 11:02:41            25-34   \n",
       "4      4/27/2021 11:02:42            25-34   \n",
       "...                   ...              ...   \n",
       "27676  2/19/2022 16:07:31            45-54   \n",
       "27677  2/19/2022 18:17:08            25-34   \n",
       "27678  2/19/2022 19:47:05            25-34   \n",
       "27679  2/21/2022 19:43:29            25-34   \n",
       "27680  2/22/2022 13:05:17            25-34   \n",
       "\n",
       "                                    Industry  \\\n",
       "0               Education (Higher Education)   \n",
       "1                          Computing or Tech   \n",
       "2              Accounting, Banking & Finance   \n",
       "3                                 Nonprofits   \n",
       "4              Accounting, Banking & Finance   \n",
       "...                                      ...   \n",
       "27676               Property or Construction   \n",
       "27677                              Insurance   \n",
       "27678          Accounting, Banking & Finance   \n",
       "27679  Education (Early Childhood Education)   \n",
       "27680                    Political Campaigns   \n",
       "\n",
       "                                      Job title  \\\n",
       "0            Research and Instruction Librarian   \n",
       "1      Change & Internal Communications Manager   \n",
       "2                          Marketing Specialist   \n",
       "3                               Program Manager   \n",
       "4                            Accounting Manager   \n",
       "...                                         ...   \n",
       "27676                   Senior Project Manager    \n",
       "27677                               Underwriter   \n",
       "27678     Vice Presidenti and Corporate Counsel   \n",
       "27679                 Quality Rating Specialist   \n",
       "27680              Congressional Field Director   \n",
       "\n",
       "                         Additional context on job title Annual salary  \\\n",
       "0                                                    NaN        55,000   \n",
       "1                                                    NaN        54,600   \n",
       "2                                                    NaN        34,000   \n",
       "3                                                    NaN        62,000   \n",
       "4                                                    NaN        60,000   \n",
       "...                                                  ...           ...   \n",
       "27676                               Owner rep consultant        145000   \n",
       "27677                                                NaN         67000   \n",
       "27678                                (in-house attorney)        252000   \n",
       "27679  Program assessor to conduct quality assessment...         62400   \n",
       "27680                                                NaN         66000   \n",
       "\n",
       "       Other monetary comp Currency Currency - other  \\\n",
       "0                      0.0      USD              NaN   \n",
       "1                   4000.0      GBP              NaN   \n",
       "2                      NaN      USD              NaN   \n",
       "3                   3000.0      USD              NaN   \n",
       "4                   7000.0      USD              NaN   \n",
       "...                    ...      ...              ...   \n",
       "27676              14500.0      USD              NaN   \n",
       "27677               6700.0      USD              NaN   \n",
       "27678              80000.0      USD              NaN   \n",
       "27679                  NaN      USD              NaN   \n",
       "27680               5500.0      USD              NaN   \n",
       "\n",
       "                            Additional context on income         Country  \\\n",
       "0                                                    NaN   United States   \n",
       "1                                                    NaN  United Kingdom   \n",
       "2                                                    NaN              US   \n",
       "3                                                    NaN             USA   \n",
       "4                                                    NaN              US   \n",
       "...                                                  ...             ...   \n",
       "27676  Guaranteed 10% bonus if our department meets t...             USA   \n",
       "27677                                                NaN             USA   \n",
       "27678                     I also receive an equity grant              US   \n",
       "27679                                                NaN   United States   \n",
       "27680  Paid as $5,500 monthly, with a month's salary ...   United States   \n",
       "\n",
       "                State            City  \\\n",
       "0       Massachusetts          Boston   \n",
       "1                 NaN       Cambridge   \n",
       "2           Tennessee     Chattanooga   \n",
       "3           Wisconsin       Milwaukee   \n",
       "4      South Carolina      Greenville   \n",
       "...               ...             ...   \n",
       "27676      California   San Francisco   \n",
       "27677         Florida           Tampa   \n",
       "27678    Pennsylvania    Philadelphia   \n",
       "27679      California       San Diego   \n",
       "27680        Virginia  Virginia Beach   \n",
       "\n",
       "      Overall years of professional experience Years of experience in field  \\\n",
       "0                                    5-7 years                    5-7 years   \n",
       "1                                 8 - 10 years                    5-7 years   \n",
       "2                                  2 - 4 years                  2 - 4 years   \n",
       "3                                 8 - 10 years                    5-7 years   \n",
       "4                                 8 - 10 years                    5-7 years   \n",
       "...                                        ...                          ...   \n",
       "27676                            11 - 20 years                11 - 20 years   \n",
       "27677                             8 - 10 years                11 - 20 years   \n",
       "27678                            11 - 20 years                11 - 20 years   \n",
       "27679                            11 - 20 years                 8 - 10 years   \n",
       "27680                                5-7 years                    5-7 years   \n",
       "\n",
       "      Highest level of education completed      Gender  \\\n",
       "0                          Master's degree       Woman   \n",
       "1                           College degree  Non-binary   \n",
       "2                           College degree       Woman   \n",
       "3                           College degree       Woman   \n",
       "4                           College degree       Woman   \n",
       "...                                    ...         ...   \n",
       "27676                       College degree       Woman   \n",
       "27677                      Master's degree       Woman   \n",
       "27678   Professional degree (MD, JD, etc.)       Woman   \n",
       "27679                       College degree       Woman   \n",
       "27680                       College degree       Woman   \n",
       "\n",
       "                          Race  \n",
       "0                        White  \n",
       "1                        White  \n",
       "2                        White  \n",
       "3                        White  \n",
       "4                        White  \n",
       "...                        ...  \n",
       "27676  Asian or Asian American  \n",
       "27677                    White  \n",
       "27678                    White  \n",
       "27679  Asian or Asian American  \n",
       "27680                    White  \n",
       "\n",
       "[27681 rows x 18 columns]"
      ]
     },
     "execution_count": 3,
     "metadata": {},
     "output_type": "execute_result"
    }
   ],
   "source": [
    "df"
   ]
  },
  {
   "cell_type": "code",
   "execution_count": 4,
   "id": "ee152e0f",
   "metadata": {
    "tags": []
   },
   "outputs": [],
   "source": [
    "from pandas_profiling import ProfileReport\n",
    "profile = ProfileReport(df, title=\"Pandas Profiling Report\", explorative=True)\n",
    "profile.to_notebook_iframe()"
   ]
  },
  {
   "cell_type": "code",
   "execution_count": 5,
   "id": "3d0f6ad2",
   "metadata": {},
   "outputs": [
    {
     "data": {
      "text/plain": [
       "Timestamp                                    object\n",
       "How old are you?                             object\n",
       "Industry                                     object\n",
       "Job title                                    object\n",
       "Additional context on job title              object\n",
       "Annual salary                                object\n",
       "Other monetary comp                         float64\n",
       "Currency                                     object\n",
       "Currency - other                             object\n",
       "Additional context on income                 object\n",
       "Country                                      object\n",
       "State                                        object\n",
       "City                                         object\n",
       "Overall years of professional experience     object\n",
       "Years of experience in field                 object\n",
       "Highest level of education completed         object\n",
       "Gender                                       object\n",
       "Race                                         object\n",
       "dtype: object"
      ]
     },
     "execution_count": 5,
     "metadata": {},
     "output_type": "execute_result"
    }
   ],
   "source": [
    "df.dtypes"
   ]
  },
  {
   "cell_type": "code",
   "execution_count": 6,
   "id": "a5cad59f",
   "metadata": {},
   "outputs": [
    {
     "data": {
      "text/plain": [
       "Timestamp                                   24899\n",
       "How old are you?                                7\n",
       "Industry                                     1199\n",
       "Job title                                   14168\n",
       "Additional context on job title              6909\n",
       "Annual salary                                4246\n",
       "Other monetary comp                           836\n",
       "Currency                                       11\n",
       "Currency - other                              111\n",
       "Additional context on income                 2951\n",
       "Country                                       365\n",
       "State                                         129\n",
       "City                                         4758\n",
       "Overall years of professional experience        8\n",
       "Years of experience in field                    8\n",
       "Highest level of education completed            6\n",
       "Gender                                          5\n",
       "Race                                           48\n",
       "dtype: int64"
      ]
     },
     "execution_count": 6,
     "metadata": {},
     "output_type": "execute_result"
    }
   ],
   "source": [
    "df.nunique()"
   ]
  },
  {
   "cell_type": "markdown",
   "id": "d019d9c5",
   "metadata": {},
   "source": [
    "## Cleaning Steps\n",
    "\n",
    "1) remove 'Timestamp' <br>\n",
    "2) refine 'How old are you?' into categories<br>\n",
    "3) refine 'Industry' into categories<br>\n",
    "4) refine 'Job title' into categories<br>\n",
    "5) remove 'Additional context on job title' <br>\n",
    "6) combine 'Annual salary' with 'Other monetary comp' and convert to US currency<br>\n",
    "7) add 'Currency -other' information to 'Currency' and then remove 'Currency -other' and make 'Currency' categorical <br>\n",
    "8) remove 'Additional context on income' <br>\n",
    "9) refine Country into categories<br>\n",
    "10) impute 'State' from 'City' values<br>\n",
    "11) remove 'City'<br>\n",
    "12) refine 'Overall years of professional experience' into categories<br>\n",
    "13) remove 'Years of experience in field'<br>\n",
    "14) refine 'Highest level of education completed' into categories<br>\n",
    "15) refine 'Gender' into categories<br>\n",
    "16) refine 'Race' into categories<br>\n",
    "\n"
   ]
  },
  {
   "cell_type": "markdown",
   "id": "e2965e4a",
   "metadata": {},
   "source": [
    "#### Remove unnecessary columns"
   ]
  },
  {
   "cell_type": "code",
   "execution_count": 7,
   "id": "e774db60",
   "metadata": {},
   "outputs": [],
   "source": [
    "df=df.drop(['Timestamp'], axis=1)\n",
    "df=df.drop(['Additional context on job title'], axis=1)\n",
    "df=df.drop(['Additional context on income'], axis=1)"
   ]
  },
  {
   "cell_type": "markdown",
   "id": "3bc3b456",
   "metadata": {},
   "source": [
    "#### 'Age'"
   ]
  },
  {
   "cell_type": "code",
   "execution_count": 8,
   "id": "5b90eb87",
   "metadata": {},
   "outputs": [],
   "source": [
    "df['Age']=df['How old are you?'].astype('category')\n",
    "df=df.drop(['How old are you?'], axis=1)"
   ]
  },
  {
   "cell_type": "markdown",
   "id": "1fa713ca",
   "metadata": {},
   "source": [
    "#### 'Country' and 'Overall years of professional experience'"
   ]
  },
  {
   "cell_type": "markdown",
   "id": "b125e842-8bc5-4943-add5-588448ac56fb",
   "metadata": {},
   "source": [
    "With the 'Country' field appearing as a mandatory free-form text entry on the survey, there resulted in more than 360 unique values in this field despite nearly 80% of the dataset entries originating from individuals based in the U.S.. Due to this anomaly, the best approach seemed to be to create a custom dictionary in order to fix more desirable 'Country' titles to those which had misspellings and abbreviations. Many of the rows had 'Country' field occupied by the incorrect country; this was largely due to the fact that a large group of individuals lived in a Country which was different than the location of the base for their employer or government agency. This was corrected by the given information in the 'Country' column and/or the 'City' or 'State' columns which were occupied by American cities/states, 'District of Columbia', or 'Puerto Rico'. Then, once condensed down to about 120 unique values, the countries which only appeared once were taken out of the dataset completely as they didn't seem to fairly represent the manager salary in those specifically countries compared to the U.S. which still had nearly 22,000 entries for itself.\n",
    "\n",
    "This dataset included 2 fields for experience, one was for overall professional experience and the other was for the number of years in their current respective field. Several of the entries had 'Years of experience in field' larger than 'Overall years of professional experience' so in order to simplify this, both columns were condensed by taking the larger of the 2 fields and renaming the field 'Experience'. Since both of these columns were multiple choice, they each contained several ranges of experience; upon merging, the bottom of each range was chosen to keep the value a single integer for 'Experience'. "
   ]
  },
  {
   "cell_type": "code",
   "execution_count": 9,
   "id": "070471e3",
   "metadata": {},
   "outputs": [],
   "source": [
    "# Create dictionary of mispelled country names to recognize and set each associated Country correctly\n",
    "global country_names\n",
    "country_names={'United States':'USA', 'US':'USA', 'United States of America':'USA', 'United States ':'USA', 'UK ':'UK', 'United Kingdom':'UK', \n",
    "               'U.S>':'USA', 'USA ':'USA', 'Usa':'USA', 'usa':'USA', 'Uk':'UK', 'USA-- Virgin Islands':'USA', 'Us':'USA', 'US ':'USA', \n",
    "               'U.S.A.':'USA', 'U.S.A':'USA', 'U.S. ':'USA', 'United States':'USA', 'United State':'USA', 'United Kingdom ':'UK', 'Scotland ':'UK',\n",
    "               'England':'UK', 'England/UK':'UK', 'Scotland':'UK', 'England ':'UK', 'uk':'UK', 'Unites States':'USA', 'Uk ':'UK', \n",
    "               'UK (Northern Ireland)':'UK', 'England, UK':'UK', 'U.S.':'USA', 'United Kingdom.':'UK', 'United kingdom':'UK', 'U.K. ':'UK',\n",
    "               'United kingdom ':'UK', 'England, UK.':'UK', 'United Kingdom (England)':'UK', 'Unted States':'USA', 'ENGLAND':'USA', 'Great Britain':'UK',\n",
    "               'Us ':'USA', 'UXZ':'USA', 'U.K':'UK', 'United states':'USA', 'united states':'USA', 'United States of America ':'USA', 'Wales, UK':'UK',\n",
    "               'Northern Ireland, United Kingdom':'UK', 'England, United Kingdom ':'UK', 'England, United Kingdom':'UK', 'America':'USA', 'england':'UK',\n",
    "               'united stated':'USA', 'Wales (United Kingdom)':'UK', 'Us ':'USA', 'UK (England)':'UK', 'uk':'UK', 'Uk ':'UK', 'England, UK':'UK',\n",
    "               'U.K. (northern England)':'UK', 'us':'USA', 'U.K.':'UK', 'United Kingdomk':'UK', 'Englang':'UK', 'Wales (UK)':'UK', 'Scotland, UK':'UK',\n",
    "               'United States- Puerto Rico':'USA', 'UK, remote':'UK', 'UK for U.S. company':'USA', 'Canada ': 'Canada', 'canada':'Canada', 'CANADA':'Canada',\n",
    "               'Canadw':'Canada', 'Can':'Canada', 'Canda':'Canada', 'Puerto Rico ':'USA', 'England, Gb':'UK', 'UK for U.S. company':'USA', 'Canadá':'Canada',\n",
    "               'United Kindom':'UK', 'ireland':'Ireland', 'Ireland ':'Ireland', 'Japan ':'Japan', 'Sweden ':'Sweden', 'United Arab Emirates ':'UAE', \n",
    "               'Unites kingdom ':'UK', 'Northern Ireland ':'UK', 'united kingdom':'UK', 'Wales':'UK', 'Canada, Ottawa, ontario':'Canada', 'Britain ':'UK',\n",
    "               'FRANCE':'France', 'CANADA ':'Canada', 'spain':'Spain', 'Canad':'Canada', 'Australia ':'Australia', 'australia':'Australia', \n",
    "               'Australi':'Australia', 'Csnada':'Canada', 'France ':'France', 'Puerto Rico':'USA', 'Northern Ireland':'UK', 'germany':'Germany',\n",
    "               'New Zealand Aotearoa':'New Zealand', 'Aotearoa New Zealand':'New Zealand', 'france':'France', 'New zealand':'New Zealand',\n",
    "               'New Zealand ':'New Zealand', ' New Zealand':'New Zealand', 'Germany ':'Germany', 'Mexico ':'Mexico', 'Great Britain ': 'UK',\n",
    "               'finland':'Finland', 'Russia ':'Russia', 'NZ':'New Zealand', 'The Netherlands':'Netherlands', 'Netherlands ':'Netherlands',\n",
    "               'the netherlands':'Netherlands', 'new zealand':'New Zealand', 'INDIA':'India', 'Spain ':'Spain', 'The netherlands': 'Netherlands', \n",
    "               'South Korea ':'South Korea', 'Ukraine ':'Ukraine', 'hong konh':'Hong Kong', 'Hong Kong ':'Hong Kong', 'switzerland':'Switzerland',\n",
    "               'Brazil ':'Brazil', 'SWITZERLAND':'Switzerland', 'japan':'Japan', 'Australian ':'Australia', 'The Netherlands ':'Netherlands',\n",
    "               'netherlands':'Netherlands', 'South Africa ':'South Africa', 'Croatia ':'Croatia', 'Czech republic':'Czech Republic', \n",
    "               'czech republic':'Czech Republic', 'Czech Republic ':'Czech Republic', 'Italy (South)':'Italy', 'Bangladesh ':'Bangladesh', \n",
    "               'singapore':'Singapore', 'Malaysia ':'Malaysia', 'Singapore ':'Singapore', 'Denmark ':'Denmark', 'denmark':'Denmark', 'Norway ':'Norway',\n",
    "               'Japan, US Gov position':'USA','Remote (philippines)':'USA', 'croatia':'Croatia', 'Company in Germany. I work from Pakistan.':'Germany', \n",
    "               'ARGENTINA BUT MY ORG IS IN THAILAND':'Thailand', 'Czechia':'Czech Republic', 'Jersey, Channel islands':'UK', 'Mainland China':'China',\n",
    "               'Switzerland ': 'Switzerland', 'South africa':'South Africa', 'México':'Mexico', 'Catalonia':'Spain', 'Panamá':'Panama', 'the Netherlands':'Netherlands',\n",
    "               'Nederland':'Netherlands', 'Brasil':'Brazil', 'Portugal ':'Portugal', 'Sri lanka':'Sri Lanka', 'The Bahamas ':'The Bahamas', 'NL':'Netherlands',\n",
    "               'europe':'Czech Republic', 'Belgium ':'Belgium'}"
   ]
  },
  {
   "cell_type": "code",
   "execution_count": 10,
   "id": "3877eebd",
   "metadata": {},
   "outputs": [],
   "source": [
    "def clean_columns(df):\n",
    "\n",
    "    \n",
    "    #Condense experience down to only 1 column\n",
    "    k = df['Overall years of professional experience'].unique()\n",
    "    exp = {}\n",
    "    for carrot in k:\n",
    "        exp[carrot] = 0\n",
    "    exp['2 - 4 years'] = 2\n",
    "    exp['5-7 years'] = 5\n",
    "    exp['8 - 10 years'] = 8\n",
    "    exp['11 - 20 years'] = 11\n",
    "    exp['21 - 30 years'] = 21\n",
    "    exp['31 - 40 years'] = 31\n",
    "    exp['41 years or more'] = 41\n",
    "    df['Overall years of professional experience'] = df['Overall years of professional experience'].apply(lambda x: exp.get(x))\n",
    "    df['Years of experience in field'] = df['Years of experience in field'].apply(lambda x: exp.get(x))\n",
    "    \n",
    "    # Correct years of experience if field experience is greater than professional experience and condense both columns into one\n",
    "    df['Experience'] = df['Overall years of professional experience']\n",
    "    df.loc[df['Overall years of professional experience'] < df['Years of experience in field'], 'Experience'] = df['Years of experience in field']    \n",
    "    df = df.drop(['Overall years of professional experience'], axis=1)\n",
    "    df = df.drop(['Years of experience in field'], axis=1)\n",
    "    \n",
    "    # Create list of states to recognize and set each associated Country as 'USA'\n",
    "    statesL = ['alabama', 'alaska', 'arizona', 'arkansas', 'california', 'colorado', 'connecticut', 'delaware', 'florida', 'georgia', 'hawaii', 'idaho', 'illinois', 'indiana', 'iowa', 'kansas', 'kentucky', 'louisiana', 'maine', 'maryland', 'massachusetts', 'michigan', 'minnesota', 'mississippi', 'missouri', 'montana', 'nebraska', 'nevada', 'new hampshire', 'new jersey', 'new mexico', 'new york', 'north carolina', 'north dakota', 'ohio', 'oklahoma', 'oregon', 'pennsylvania', 'rhode island', 'south carolina', 'south dakota', 'tennessee', 'texas', 'utah', 'vermont', 'virginia', 'washington', 'west virginia', 'wisconsin', 'wyoming', 'puerto rico', 'district of columbia']\n",
    "    states=[]\n",
    "    for i in statesL:\n",
    "        new = i.title()\n",
    "        if new == 'District Of Columbia':\n",
    "            new = 'District of Columbia'\n",
    "        states.append(new)\n",
    "    df.loc[((df.State.isin(states)) | (df.City.isin(states)) | (df.State.isin(city_to_state_dict.keys()))), 'Country'] = 'USA'\n",
    "    \n",
    "    df['Country'].replace(country_names, inplace=True)\n",
    "    country1=df['Country'].value_counts().tail(49).keys().tolist()\n",
    "    df=df[~df['Country'].isin(country1)]\n",
    "    return df\n",
    "\n",
    "df = clean_columns(df)\n"
   ]
  },
  {
   "cell_type": "markdown",
   "id": "f7df9098",
   "metadata": {},
   "source": [
    "#### 'Industry'"
   ]
  },
  {
   "cell_type": "markdown",
   "id": "457a87fe-f6b6-428e-8b94-fb212cb018ce",
   "metadata": {},
   "source": [
    "Because of the wide varity of industries and the element of freeform entry, we wanted to use natural language processing to group them up for analysis."
   ]
  },
  {
   "cell_type": "code",
   "execution_count": 11,
   "id": "5ae6a5c8",
   "metadata": {},
   "outputs": [],
   "source": [
    "industry_dict = {\n",
    "    'education': ['education','instructional','interpretation', 'coach',  'print','higher','primary', 'restoration','secondary', 'educational', 'early','graduate', 'childhood','college','publish', 'edtech','academic', 'research','literature', 'university','teacher','museum','study', 'learn','museums','publications','translation','instructor','arts' ,'university','student','learn','school','archive','textbook','educ','publishibg'],\n",
    "    'tech':['compute', 'internet','tech','digital', 'ecommerce','aerospace', 'virtual','technology', 'software','saas','cybersecurity','technical','database','information','fintech','data','analytics','intelligence'],\n",
    "    'finance':['account' ,'fund','actuarial','bank', 'invest','finance','investment','economics','wealth'],\n",
    "    'nonprofit':['nonprofits','diversity', 'equity', 'inclusion', 'charity','grantwriting','americorps', 'philanthropy', 'donor', 'nonprofit','heritage','culture','foundation','cultural','preservation','fundraise' ],\n",
    "    'government':[ 'government','disability','global','urban','immigration','regulatory', 'public', 'administration','library','social', 'survey','libraries','politics','relations', 'lobby','librarian','international','govt','community','policy','federal','state','political','mail','management','compliance'],\n",
    "    'healthcare':['health', 'probiotics','care', 'medcomms','medical','hospital','biopharma','pharmaceuticals','medicine','pharma','pharmaceutical','healthcare','clinical','preclinical','biomedical', 'pharmacy','toxicology','veterinarian','therapy', 'psychology','veterinary','therapist','cancer','drug','psychologist','hygiene'],\n",
    "    'property':['utilities','appraisal', 'electrification', 'property','concrete','compliance','construction','costruction', 'architecture','real', 'estate' ,'interior' ,'architecture','house','furniture','architect','mortgage','interior','landscape'],\n",
    "    'business':['business','media','digital','market','advertise', 'design','purchase','buyer',  'survey','review','fmcg','strategy','comm','outsource','payment','center','private','think','commerce','award', 'work','procurement','staff', 'background','human','association','contract','consult', 'insurance','trade','sales','logistics', 'recruitment','service','consumer','management','distribution','workforce','market','wholesale','organizational','labor','executive', 'professional','corporate','procurement','operations','product','administrative','legal','train','union','communications','unions','office','counsel','consultant','consultants','organization', 'logistics',  'compliance',  'plan', 'assist','accessibility'],\n",
    "    'manufacturing':['engineer','inspection','destructive','quality', 'manufacture', 'distribute', 'production','supply','warehouse','distribution','chemical','chemicals', 'operations','industrial','manufactures','machinery','equipment' ],\n",
    "    'science':['biotechnology','bioinformatics','aerospace', 'stem', 'research','biotech','space','sciences', 'science','ecology','scientific','scientist','chemistry','biological','bioscience','bitech','laboratory','analytical','biologist','animal'],\n",
    "    'environment':['energy','exploration', 'park', 'zoos', 'environmental', 'conservation','regulation','archaeology','archaeologist','resource','renewable', 'sustainability','renewables','environment','natural'],\n",
    "    'agriculture':['agriculture','maritime', 'forestry','mine','cannabis','geospatial','land','geologist','outdoor','horticulture','petroleum','fisherman','oilfield'],\n",
    "    'law enforcement and military':['enforcement', 'protective','security','soldier','defense','protection','forensics','military'],\n",
    "    'transportation':['auto','automotive','repair','truck', 'aviation','transport','transportation','airline'],\n",
    "    'entertainment':['music','perform','entertainment','animation','leisure','sport','video','game','journalism','fitness','theatre','theater','film','music','video','perform'],\n",
    "    'self-employed':[ 'gamble','retire','entrepreneur','travel','self'],\n",
    "    'service':['food','storage','language','clothe','facilities', 'maintenance', 'clean','foodservice','beverage','drink', 'beer','beauty','cosmetology','housekeeper','cook','landscape','funeral','retail','hospitality','tourism','restaurant','restaurants','apparel','laundry','wine','brew','waste','customer','fashion','tailor','gyms','auction','camp','pest','coffee','janitorial','grocery','groom'],\n",
    "    'religion':['religion','church', 'ministry','religious','faith', 'spirituality','clergy','chaplain'],\n",
    "    'family':['childcare','daycare','children','household','parent','child','caregiver','caretaker','family','sitter']\n",
    "}"
   ]
  },
  {
   "cell_type": "code",
   "execution_count": 12,
   "id": "f7302c2f",
   "metadata": {},
   "outputs": [],
   "source": [
    "def lemmatize_stemming(text):\n",
    "    return (WordNetLemmatizer().lemmatize(text, pos='v'))\n",
    "def preprocess(text):\n",
    "    result = []\n",
    "    for token in gensim.utils.simple_preprocess(text):\n",
    "        if token not in gensim.parsing.preprocessing.STOPWORDS and len(token) > 3:\n",
    "            result.append(lemmatize_stemming(token))\n",
    "    return result"
   ]
  },
  {
   "cell_type": "code",
   "execution_count": 13,
   "id": "ef213a9c",
   "metadata": {},
   "outputs": [],
   "source": [
    "df['Industry']=df['Industry'].astype(str)\n",
    "processed_text = df['Industry'].map(preprocess)\n",
    "df['words']=processed_text\n",
    "topic=[]\n",
    "for industry in df['words']:\n",
    "    for word in industry:\n",
    "        indust=[key for key, value in industry_dict.items() if word in value]\n",
    "\n",
    "    topic.append(indust)\n",
    "df['topic']=topic"
   ]
  },
  {
   "cell_type": "code",
   "execution_count": 14,
   "id": "dae2d370",
   "metadata": {},
   "outputs": [],
   "source": [
    "indust=[]\n",
    "for line in df['topic']:\n",
    "    if len(line)==0:\n",
    "        indust.append(np.nan)\n",
    "    else:\n",
    "        try:\n",
    "            indust.append(','.join(map(str, line)))\n",
    "        except TypeError:\n",
    "            indust.append(np.nan)\n",
    "df=df.drop(['Industry','words'], axis=1)\n",
    "df=df.drop(['topic'], axis=1)\n",
    "df['Industry']=indust"
   ]
  },
  {
   "cell_type": "markdown",
   "id": "c11c4a9b-191a-4bdc-8060-9c5902ec33dc",
   "metadata": {},
   "source": [
    "#### 'Job title'"
   ]
  },
  {
   "cell_type": "markdown",
   "id": "159151f5-4a80-43c7-9ea8-c780441663ff",
   "metadata": {},
   "source": [
    "Job title is another feature that really presented a challenge for analysis due to the wide variety of industries, freeform text entry, and description of job.  To clean this, we decided that having set bins to group major job titles to categorize would be the best way to compare jobs across industries.  We were able to use key words in the text to properly classify each title into a category."
   ]
  },
  {
   "cell_type": "code",
   "execution_count": 15,
   "id": "26d53f2f-bcc3-46ac-b317-11127bf2eb45",
   "metadata": {},
   "outputs": [],
   "source": [
    "#binning job titles\n",
    "df.loc[(df['Job title'].str.contains('chief',case=False)), 'Job title_Bin'] = 'Executive'\n",
    "df.loc[(df['Job title'].str.contains('\\s+c[a-z]o\\s+|^c[a-z]o$|\\s+c[a-z]o$|^c[a-z]o\\/|^c[a-z]o\\s',case=False)), 'Job title_Bin'] = 'Executive'\n",
    "df.loc[(df['Job title'].str.contains('director',case=False)), 'Job title_Bin'] = 'Director'\n",
    "df.loc[(df['Job title'].str.contains('manag.',case=False)), 'Job title_Bin'] = 'Management'\n",
    "df.loc[df['Job title_Bin'].isnull(),'Job title_Bin']='Non-Managerial Employee'\n",
    "df=df.drop(['Job title'], axis=1)"
   ]
  },
  {
   "cell_type": "markdown",
   "id": "71a3b94a",
   "metadata": {},
   "source": [
    "#### 'Salary' and 'Currency'"
   ]
  },
  {
   "cell_type": "markdown",
   "id": "689eb332-0e33-4d1c-bc5f-923ec8ca7b00",
   "metadata": {},
   "source": [
    "Many of the salary values did not fit the expected form of 'annual salary'.  Digging into these values, it appeared that they were entered as thousands of dollars instead of actual dollar amount.  We were able to correct these by multiplying by 1,000.  We also wanted to remove the additional compensation column since it was mostly null and combined it with annual salary to get the total annual salary. <Br>\n",
    "    Since our dataset included the US and other countries, we wanted to normalize the data for a true apples-to-apples comparison, so we converted all the non-US currencies to USD by way of a conversion table given the current exchange rates."
   ]
  },
  {
   "cell_type": "code",
   "execution_count": 16,
   "id": "8fa94abc",
   "metadata": {},
   "outputs": [],
   "source": [
    "df['Annual salary']=df['Annual salary'].astype('str')\n",
    "df['Annual salary']=df['Annual salary'].str.replace(',','')\n",
    "df['Annual salary']=df['Annual salary'].astype('float64')\n",
    "df['Annual salary']=df['Annual salary'].fillna(0)\n",
    "corrected=[]\n",
    "for val in df['Annual salary']:\n",
    "    if val<100:\n",
    "        corrected.append(val)\n",
    "    elif 100<val<1000:\n",
    "        corrected.append(val*1000)\n",
    "    else:\n",
    "        corrected.append(val)\n",
    "        \n",
    "df['Other monetary comp']=df['Other monetary comp'].fillna(0)\n",
    "df[\"Total Salary\"] = corrected + df['Other monetary comp']\n",
    "df=df.drop(['Annual salary', 'Other monetary comp'], axis=1)"
   ]
  },
  {
   "cell_type": "code",
   "execution_count": 17,
   "id": "78142db5",
   "metadata": {},
   "outputs": [],
   "source": [
    "df[\"Currency\"]=df[\"Currency\"].astype(str)\n",
    "df[\"Currency - other\"]=df[\"Currency - other\"].astype(str)\n",
    "currency_unique=df['Currency'].unique()"
   ]
  },
  {
   "cell_type": "code",
   "execution_count": 18,
   "id": "a86b89c3",
   "metadata": {},
   "outputs": [],
   "source": [
    "pattern = re.compile(r\"(?<![A-Z])[A-Z]{3}(?![A-Z])\")\n",
    "\n",
    "curr=[]\n",
    "for i in range(len(df[\"Currency\"])):\n",
    "    val=df[\"Currency\"].iloc[i]\n",
    "    if val == 'Other':\n",
    "        result = pattern.search(df['Currency - other'].iloc[i])\n",
    "        try:\n",
    "            curr.append(result.group())\n",
    "        except AttributeError:\n",
    "            curr.append(np.nan)\n",
    "    else:\n",
    "        curr.append(val)"
   ]
  },
  {
   "cell_type": "code",
   "execution_count": 19,
   "id": "515dc338",
   "metadata": {},
   "outputs": [],
   "source": [
    "df['Currency']=curr\n",
    "df.loc[df['Currency'] == \"AUD\", 'Currency'] = 'AUD/NZD'\n",
    "df.loc[df['Currency'] == \"NZD\", 'Currency'] = 'AUD/NZD'\n",
    "\n",
    "cur=[]\n",
    "for val in df[\"Currency\"]:\n",
    "    if val in currency_unique:\n",
    "        cur.append(val)\n",
    "    else:\n",
    "        cur.append(np.nan)\n",
    "df['Currency']=cur\n",
    "\n",
    "df = df[df['Currency'].notna()]\n",
    "df=df.drop(['Currency - other'], axis=1)"
   ]
  },
  {
   "cell_type": "code",
   "execution_count": 20,
   "id": "84edb736",
   "metadata": {},
   "outputs": [],
   "source": [
    "exchange ={1:'USD',\n",
    "           1.3210938:'GBP',\n",
    "           0.78664093:'CAD',\n",
    "           1.0873256:'EUR',\n",
    "           0.74139988:'AUD/NZD',\n",
    "           1.0861636:'CHF',\n",
    "           0.06495109:'ZAR',\n",
    "           0.10061237:'SEK',\n",
    "           0.12794878:'HKD',\n",
    "           0.0087003299:'JPY'\n",
    "          }"
   ]
  },
  {
   "cell_type": "code",
   "execution_count": 21,
   "id": "c27a293b",
   "metadata": {},
   "outputs": [],
   "source": [
    "convert=[]\n",
    "for val in df['Currency']:\n",
    "    convert.append([key for key, value in exchange.items() if val in value][0])\n",
    "    \n",
    "df['convert']=convert\n",
    "df['convert']=df['convert'].astype(float)\n",
    "df[\"Total Salary\"]=df[\"Total Salary\"].astype(float)\n",
    "df[\"Salary (USD)\"] = df[\"convert\"] * df[\"Total Salary\"]\n",
    "df=df.drop(['convert','Total Salary','Currency'], axis=1)"
   ]
  },
  {
   "cell_type": "markdown",
   "id": "5806472c",
   "metadata": {},
   "source": [
    "#### 'City' and 'State'"
   ]
  },
  {
   "cell_type": "markdown",
   "id": "7445cd0c-77d6-42be-b53a-d46c790a66fa",
   "metadata": {},
   "source": [
    "There were many US States that were null but had an entry for City.  We were able to impute many of the state values from looking at state entered in city, city name from a city-state dictionary reference, and getting the state name from the two letter abbreviation through the us package."
   ]
  },
  {
   "cell_type": "code",
   "execution_count": 22,
   "id": "bcc8748e-02d6-45bb-a179-b3779e207d50",
   "metadata": {},
   "outputs": [],
   "source": [
    "def return_state(txt=None):\n",
    "    try:\n",
    "        regex = '\\s[a-zA-Z]{2}$'\n",
    "        q=re.search(regex,txt)\n",
    "        if q==None:\n",
    "            regex = '^[a-zA-Z]{2}$'\n",
    "            q=re.search(regex,txt)\n",
    "            if q==None:\n",
    "                return np.nan\n",
    "        st=us.states.lookup(q.group().strip())\n",
    "        return st.name\n",
    "    except:\n",
    "        return np.nan"
   ]
  },
  {
   "cell_type": "code",
   "execution_count": 23,
   "id": "686f7b26-eb77-4e0b-9afb-5432dbc95edb",
   "metadata": {},
   "outputs": [],
   "source": [
    "def cityState(city):\n",
    "    try:\n",
    "        return city_to_state_dict[city.title().strip()]\n",
    "    except:\n",
    "        return np.nan"
   ]
  },
  {
   "cell_type": "code",
   "execution_count": 24,
   "id": "cb805f12-ec2c-4936-94a0-cebfc94561df",
   "metadata": {},
   "outputs": [],
   "source": [
    "#Assigns a value to state for non-us countries\n",
    "df.loc[(df['Country'] != 'USA'), 'State'] = 'Outside USA'"
   ]
  },
  {
   "cell_type": "code",
   "execution_count": 25,
   "id": "0de7c2fc-4a93-4ef9-99a1-2d72d1bf4b99",
   "metadata": {},
   "outputs": [],
   "source": [
    "subParts=['no','na','n/a']\n",
    "for part in subParts:\n",
    "    df.loc[(df['Country'] == 'USA') & (df['State'].isnull()) & (df[\"City\"].str.lower() == part), \"City\"] = 'delete'\n",
    "df.loc[(df['Country'] == 'USA') & (df['State'].isnull()) & (df[\"City\"].isnull()),'City'] = 'delete'"
   ]
  },
  {
   "cell_type": "code",
   "execution_count": 26,
   "id": "24970943-a184-4df2-b317-89328fcae571",
   "metadata": {},
   "outputs": [],
   "source": [
    "junk = [   \n",
    "    'decline',\n",
    "    'prefer',\n",
    "    'answer',\n",
    "    'various ',\n",
    "    'area',\n",
    "    'remote',\n",
    "    'confidential',\n",
    "    'sorry',\n",
    "    'metro',\n",
    "    'coast',\n",
    "    'several',\n",
    "    'anonymous',\n",
    "    'region',\n",
    "    'new england',\n",
    "    'home'\n",
    "    # 'district',\n",
    "    # 'dc',\n",
    "    # 'd.c.'\n",
    "       ]\n",
    "for j in junk:\n",
    "    df.loc[(df['Country'] == 'USA') & (df['State'].isnull()) & (df['City'].str.contains(j,case=False)), 'City'] = 'delete'"
   ]
  },
  {
   "cell_type": "code",
   "execution_count": 27,
   "id": "e2a20eee-b8b7-4378-8c8e-ae82cd80829d",
   "metadata": {},
   "outputs": [],
   "source": [
    "#populates state from two letter abbreviation in city\n",
    "df.loc[(df['Country'] == 'USA') & (df['State'].isnull()), 'State']=df.loc[(df['Country'] == 'USA') & (df['State'].isnull()), 'City'].apply(lambda x: return_state(x))"
   ]
  },
  {
   "cell_type": "code",
   "execution_count": 28,
   "id": "feb7a38e-56cc-41dc-af1d-fe9b98f18226",
   "metadata": {},
   "outputs": [],
   "source": [
    "#populates state fromm state name in city\n",
    "df.loc[(df['Country'] == 'USA') & (df['State'].isnull()), 'State']=df.loc[(df['Country'] == 'USA') & (df['State'].isnull()), 'City'].apply(lambda x: us.states.lookup(x.title().strip()))"
   ]
  },
  {
   "cell_type": "code",
   "execution_count": 29,
   "id": "b03d7dd5-026a-4cbb-a535-cc65f395a422",
   "metadata": {},
   "outputs": [],
   "source": [
    "#poulates state from city_to_state_dict lookup\n",
    "df.loc[(df['Country'] == 'USA') & (df['State'].isnull()), 'State']=df.loc[(df['Country'] == 'USA') & (df['State'].isnull()), 'City'].apply(lambda x: cityState(x))"
   ]
  },
  {
   "cell_type": "code",
   "execution_count": 30,
   "id": "347895bd-765b-435f-a6ed-01ced6256580",
   "metadata": {},
   "outputs": [],
   "source": [
    "#replaces empty US States with ',' for specific row deletion\n",
    "df.loc[(df['Country'] == 'USA') & (df['State'].isnull()), 'State']=','"
   ]
  },
  {
   "cell_type": "code",
   "execution_count": 31,
   "id": "00ae47a3-fbd8-4f16-9cb4-951bef9ecf3f",
   "metadata": {},
   "outputs": [],
   "source": [
    "#removes empty US states and multiple selected states\n",
    "df=df[(df['Country'] == 'USA') & (df['State'].str.contains(','))==False]"
   ]
  },
  {
   "cell_type": "code",
   "execution_count": 32,
   "id": "431b6f60",
   "metadata": {},
   "outputs": [],
   "source": [
    "df=df.drop(['City'], axis=1)"
   ]
  },
  {
   "cell_type": "code",
   "execution_count": 33,
   "id": "9bbada9e-e3ac-4915-bd71-1989fb7caa1e",
   "metadata": {},
   "outputs": [
    {
     "name": "stdout",
     "output_type": "stream",
     "text": [
      "(27336, 10)\n"
     ]
    }
   ],
   "source": [
    "print(df.shape)"
   ]
  },
  {
   "cell_type": "markdown",
   "id": "c446f5f8",
   "metadata": {},
   "source": [
    "#### 'Education'"
   ]
  },
  {
   "cell_type": "markdown",
   "id": "0d9d2360-aaae-43de-a24f-0d1ffe2bea59",
   "metadata": {},
   "source": [
    "With no way to impute education from any of the other available columns, we decided to drop the 203 null values since they were such a small percentage of our total record count."
   ]
  },
  {
   "cell_type": "code",
   "execution_count": 34,
   "id": "8ec74fd2",
   "metadata": {},
   "outputs": [],
   "source": [
    "#Drops 203 null rows from 'Highest level of education completed'\n",
    "df.dropna(subset=['Highest level of education completed'], inplace=True)"
   ]
  },
  {
   "cell_type": "markdown",
   "id": "0aea59e0",
   "metadata": {},
   "source": [
    "#### 'Gender'"
   ]
  },
  {
   "cell_type": "markdown",
   "id": "44ff8168-a5ec-41e2-adfe-7817b2054c25",
   "metadata": {},
   "source": [
    "Gender for \"other\" with a freeform entry or \"non-binary\".  We decided to reduce these options down to \"Man\", \"Woman\", and \"Other\" for ease of analysis without losing any data points."
   ]
  },
  {
   "cell_type": "code",
   "execution_count": 35,
   "id": "909d6167",
   "metadata": {},
   "outputs": [],
   "source": [
    "#Bins Gender column to Man, Woman, and Other\n",
    "df['Gender_Bin'] = np.where(df['Gender'].isin(['Man', 'Woman']),\n",
    "                           df['Gender'],'Other')\n",
    "df=df.drop(['Gender'], axis=1)"
   ]
  },
  {
   "cell_type": "markdown",
   "id": "0646f2ce-3532-4202-83c6-6741b709b371",
   "metadata": {},
   "source": [
    "#### 'Race'"
   ]
  },
  {
   "cell_type": "markdown",
   "id": "38e91060-98e7-4356-94ea-0ad4d469da6e",
   "metadata": {},
   "source": [
    "Race allowed for checkbox selection entry which aided in the cleanliness of the specific values but made it challenging when more than one race was selected.  We were able to work with this by grouping all the multiple selected races into a group called \"Mixed Race\".  This again allowed us to categorize the variable without losing data points."
   ]
  },
  {
   "cell_type": "code",
   "execution_count": 36,
   "id": "559e3d6a-c593-495c-b85d-2e950a50b25e",
   "metadata": {},
   "outputs": [],
   "source": [
    "#Bins Race column to single selection and groups multi select as Mixed Race\n",
    "df['Race_Bin'] = np.where(df['Race'].isin(['White',\n",
    "                                           'Asian or Asian American',\n",
    "                                           'Hispanic, Latino, or Spanish origin',\n",
    "                                           'Middle Eastern or Northern African',\n",
    "                                           'Black or African American',\n",
    "                                           'Native American or Alaska Native']),\n",
    "                                           df['Race'],'Mixed Race')\n",
    "df=df.drop(['Race'], axis=1)"
   ]
  },
  {
   "cell_type": "markdown",
   "id": "a6b10644-3319-4e73-91fa-c80ab0f87e12",
   "metadata": {},
   "source": [
    "#### Remove any remaining NA rows"
   ]
  },
  {
   "cell_type": "markdown",
   "id": "d323d66b-b6f0-423a-8b57-1b3cfbd17cdf",
   "metadata": {},
   "source": [
    "The remaning records with a null value in any of the columns were finally dropped to produce a clean dataset for analysis.  Our whole cleaning process only removed "
   ]
  },
  {
   "cell_type": "code",
   "execution_count": 37,
   "id": "e98ca8dc",
   "metadata": {},
   "outputs": [],
   "source": [
    "df=df.dropna(axis=0)"
   ]
  },
  {
   "cell_type": "markdown",
   "id": "0c102cff",
   "metadata": {},
   "source": [
    "### Re-order columns"
   ]
  },
  {
   "cell_type": "code",
   "execution_count": 38,
   "id": "b6ddfa1e",
   "metadata": {},
   "outputs": [
    {
     "data": {
      "text/plain": [
       "['Country',\n",
       " 'State',\n",
       " 'Highest level of education completed',\n",
       " 'Age',\n",
       " 'Experience',\n",
       " 'Industry',\n",
       " 'Job title_Bin',\n",
       " 'Salary (USD)',\n",
       " 'Gender_Bin',\n",
       " 'Race_Bin']"
      ]
     },
     "execution_count": 38,
     "metadata": {},
     "output_type": "execute_result"
    }
   ],
   "source": [
    "cols = list(df.columns.values)\n",
    "cols"
   ]
  },
  {
   "cell_type": "code",
   "execution_count": 39,
   "id": "5b04a41e",
   "metadata": {},
   "outputs": [],
   "source": [
    "df = df[['Salary (USD)','Job title_Bin','Industry', 'Country', 'Race_Bin','Age', 'Gender_Bin',\n",
    "         'Highest level of education completed','Experience']]"
   ]
  },
  {
   "cell_type": "markdown",
   "id": "99b4d7cd",
   "metadata": {},
   "source": [
    "###  Export cleaned dataframe to CSV"
   ]
  },
  {
   "cell_type": "code",
   "execution_count": 40,
   "id": "406847b1",
   "metadata": {},
   "outputs": [],
   "source": [
    "df.to_csv('Salary.csv',index=False)"
   ]
  },
  {
   "cell_type": "code",
   "execution_count": null,
   "id": "5748edf5",
   "metadata": {},
   "outputs": [],
   "source": []
  }
 ],
 "metadata": {
  "kernelspec": {
   "display_name": "Python 3 (ipykernel)",
   "language": "python",
   "name": "python3"
  },
  "language_info": {
   "codemirror_mode": {
    "name": "ipython",
    "version": 3
   },
   "file_extension": ".py",
   "mimetype": "text/x-python",
   "name": "python",
   "nbconvert_exporter": "python",
   "pygments_lexer": "ipython3",
   "version": "3.9.7"
  }
 },
 "nbformat": 4,
 "nbformat_minor": 5
}
